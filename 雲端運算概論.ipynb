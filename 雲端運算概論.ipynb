{
  "nbformat": 4,
  "nbformat_minor": 0,
  "metadata": {
    "colab": {
      "name": "雲端運算概論",
      "provenance": [],
      "collapsed_sections": [],
      "authorship_tag": "ABX9TyMig28P4nxEN2TboPyGs1Cn",
      "include_colab_link": true
    },
    "kernelspec": {
      "name": "python3",
      "display_name": "Python 3"
    }
  },
  "cells": [
    {
      "cell_type": "markdown",
      "metadata": {
        "id": "view-in-github",
        "colab_type": "text"
      },
      "source": [
        "<a href=\"https://colab.research.google.com/github/Ko101209/DroneController/blob/master/%E9%9B%B2%E7%AB%AF%E9%81%8B%E7%AE%97%E6%A6%82%E8%AB%96.ipynb\" target=\"_parent\"><img src=\"https://colab.research.google.com/assets/colab-badge.svg\" alt=\"Open In Colab\"/></a>"
      ]
    },
    {
      "cell_type": "code",
      "metadata": {
        "id": "aBUaasEFC21V",
        "outputId": "3e405f8e-a865-4c19-ca8d-61d7d32955fd",
        "colab": {
          "base_uri": "https://localhost:8080/"
        }
      },
      "source": [
        "te = 12345\n",
        "print(\"Hello world\")"
      ],
      "execution_count": 14,
      "outputs": [
        {
          "output_type": "stream",
          "text": [
            "Hello world\n"
          ],
          "name": "stdout"
        }
      ]
    },
    {
      "cell_type": "markdown",
      "metadata": {
        "id": "q35vO3FxHzsY"
      },
      "source": [
        "123"
      ]
    },
    {
      "cell_type": "code",
      "metadata": {
        "id": "l9u54V4sIw44"
      },
      "source": [
        "import num"
      ],
      "execution_count": 17,
      "outputs": []
    }
  ]
}